{
 "cells": [
  {
   "cell_type": "code",
   "execution_count": 2,
   "metadata": {},
   "outputs": [
    {
     "name": "stdout",
     "output_type": "stream",
     "text": [
      "Mansoor\n",
      "Asad\n",
      "25\n",
      "Karachi\n"
     ]
    }
   ],
   "source": []
  },
  {
   "cell_type": "code",
   "execution_count": 11,
   "metadata": {},
   "outputs": [
    {
     "name": "stdout",
     "output_type": "stream",
     "text": [
      "{0: {'first_name': 'MANSOOR', 'last_name': 'ASAD', 'age': 25, 'city': 'Khi'}, 1: {'first_name': 'MAN', 'last_name': 'MAN', 'age': 25, 'city': 'Khi', 'Qualification': 'BSCS'}}\n",
      "{0: {'first_name': 'MANSOOR', 'last_name': 'ASAD', 'age': 25, 'city': 'Khi', 'Qualification': 'MCS'}, 1: {'first_name': 'MAN', 'last_name': 'MAN', 'age': 25, 'city': 'Khi', 'Qualification': 'BSCS'}}\n",
      "{0: {'first_name': 'MANSOOR', 'last_name': 'ASAD', 'age': 25, 'city': 'Khi', 'Qualification': 'PHD'}, 1: {'first_name': 'MAN', 'last_name': 'MAN', 'age': 25, 'city': 'Khi', 'Qualification': 'BSCS'}}\n",
      "{0: {'first_name': 'MANSOOR', 'last_name': 'ASAD', 'age': 25, 'city': 'Khi'}, 1: {'first_name': 'MAN', 'last_name': 'MAN', 'age': 25, 'city': 'Khi', 'Qualification': 'BSCS'}}\n"
     ]
    }
   ],
   "source": [
    "#TASk 1\n",
    "person_dict = {\n",
    "    0:{\n",
    "    'first_name':'MANSOOR',\n",
    "    'last_name': 'ASAD',\n",
    "    'age': 25,\n",
    "    'city': 'Khi'},\n",
    "    1:{\n",
    "    'first_name':'MAN',\n",
    "    'last_name': 'MAN',\n",
    "    'age': 25,\n",
    "    'city': 'Khi',\n",
    "    'Qualification':\"BSCS\"},\n",
    "              }\n",
    "print(person_dict)\n",
    "person_dict[0]['Qualification'] = \"MCS\"\n",
    "print(person_dict)\n",
    "person_dict[0]['Qualification'] = \"PHD\"\n",
    "print(person_dict)\n",
    "del person_dict[0]['Qualification']\n",
    "print(person_dict)\n"
   ]
  },
  {
   "cell_type": "code",
   "execution_count": 13,
   "metadata": {},
   "outputs": [
    {
     "name": "stdout",
     "output_type": "stream",
     "text": [
      "\n",
      "Karachi is in Pakistan.\n",
      " It has a population of about 20 Million.\n",
      " The City Of Light is the Fact of it\n",
      "\n",
      "Lahore is in Pakistan.\n",
      " It has a population of about 10 million.\n",
      " The Beautiful is the Fact of it\n",
      "\n",
      "Islamabad is in Pakistan.\n",
      " It has a population of about 1 million.\n",
      " The Capital City Of Pakistan is the Fact of it\n"
     ]
    }
   ],
   "source": [
    "#task2\n",
    "cities = {\n",
    "    \"karachi\":{\"country\":\"Pakistan\",\"Population\":\"20 Million\",\"fact\":\"City of light\"},\n",
    "    \"lahore\":{\"country\":\"Pakistan\",\"Population\":\"10 million\",'fact':\"Beautiful\"},\n",
    "    \"islamabad\":{\"country\":\"Pakistan\",\"Population\":\"1 million\",\"fact\":\"Capital City Of Pakistan\"}\n",
    "    }\n",
    "\n",
    "for city, city_info in cities.items():\n",
    "    country = city_info['country'].title()\n",
    "    population = city_info['Population']\n",
    "    fact = city_info['fact'].title()\n",
    "\n",
    "    print(\"\\n\" + city.title() + \" is in \" + country + \".\")\n",
    "    print(\" It has a population of about \" + str(population) + \".\")\n",
    "    print(\" The \" + fact + \" is the Fact of it\")"
   ]
  },
  {
   "cell_type": "code",
   "execution_count": 15,
   "metadata": {},
   "outputs": [
    {
     "name": "stdout",
     "output_type": "stream",
     "text": [
      "what is your age: 25\n",
      "your ticket is  $15\n"
     ]
    }
   ],
   "source": [
    "#task3\n",
    "while True:\n",
    "    age = int(input(\"what is your age: \"))\n",
    "    if age <=3:\n",
    "        print(\"your ticket is free\")\n",
    "        break\n",
    "    if age >3 and age <=12:\n",
    "        print(\"your ticket is $10\")\n",
    "        break\n",
    "    if age > 12:\n",
    "        print(\"your ticket is  $15\")\n",
    "        break"
   ]
  },
  {
   "cell_type": "code",
   "execution_count": 16,
   "metadata": {},
   "outputs": [
    {
     "name": "stdout",
     "output_type": "stream",
     "text": [
      "My favourite book is :  Little Red Riding Hood\n"
     ]
    }
   ],
   "source": [
    "#task4\n",
    "def favorite_book(title):\n",
    "    print(\"My favourite book is : \",title)\n",
    "    return None\n",
    "favorite_book('Little Red Riding Hood')"
   ]
  },
  {
   "cell_type": "code",
   "execution_count": 19,
   "metadata": {},
   "outputs": [
    {
     "name": "stdout",
     "output_type": "stream",
     "text": [
      "============GAME=============\n",
      "try a number between 5 and 10\n",
      "enter your guess: 5\n",
      "try a number grater than : 5\n",
      "enter your guess: 6\n",
      "your guess is right\n"
     ]
    }
   ],
   "source": [
    "#task5\n",
    "import random\n",
    "hidden = random.randint(1,30) \n",
    "def hint(hidden):\n",
    "    print(\"============GAME=============\")\n",
    "    if hidden>= 1 and hidden < 5:\n",
    "        print(\"try a number between 1 and 5\")\n",
    "    elif hidden >= 5 and hidden < 10:\n",
    "        print(\"try a number between 5 and 10\")\n",
    "    elif hidden >= 10 and hidden < 15:\n",
    "        print(\"try a number between 10 and 20\")\n",
    "    elif hidden >= 15 and hidden < 20:\n",
    "        print(\"try a number between 15 and 20\")\n",
    "    elif hidden >= 20 and hidden < 25:\n",
    "        print(\"try a number between 20 and 35\")\n",
    "    elif hidden >= 25 and hidden <= 30:\n",
    "        print(\"try a number between 25 and 30\")\n",
    "    return None\n",
    "def userhint(user,hidden):\n",
    "    if hidden > user:\n",
    "        print(\"try a number grater than : {}\".format(user))\n",
    "    elif hidden < user:\n",
    "        print(\"try a number samller than : {}\".format(user))\n",
    "    return None\n",
    "\n",
    "hint(hidden)\n",
    "for i in range(0,3):\n",
    "    user = int(input(\"enter your guess: \"))\n",
    "    userhint(user,hidden)\n",
    "    if user == hidden:\n",
    "        print(\"your guess is right\")\n",
    "        break"
   ]
  },
  {
   "cell_type": "code",
   "execution_count": null,
   "metadata": {
    "collapsed": true
   },
   "outputs": [],
   "source": []
  }
 ],
 "metadata": {
  "kernelspec": {
   "display_name": "Python 3",
   "language": "python",
   "name": "python3"
  },
  "language_info": {
   "codemirror_mode": {
    "name": "ipython",
    "version": 3
   },
   "file_extension": ".py",
   "mimetype": "text/x-python",
   "name": "python",
   "nbconvert_exporter": "python",
   "pygments_lexer": "ipython3",
   "version": "3.6.0"
  }
 },
 "nbformat": 4,
 "nbformat_minor": 2
}
