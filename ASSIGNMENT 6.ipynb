{
 "cells": [
  {
   "cell_type": "markdown",
   "metadata": {},
   "source": [
    "Q1) Define Object Oriented Programming Language?\n",
    "\n",
    "Object-oriented programming (OOP) refers to a type of computer programming (software design) in which programmers define the data type of a data structure, and also the types of operations (functions) that can be applied to the data structure.\n",
    "In this way, the data structure becomes an object that includes both data and functions. In addition, programmers can create relationships between one object and another. For example, objects can inherit characteristics from other objects.\n",
    "\n",
    "Q2) List down the Benefits of OOP?\n",
    "\n",
    "Modularity for easier troubleshooting. Something has gone wrong, and you have no idea where to look.\n",
    "Reuse of code through inheritance.\n",
    "Flexibility through polymorphism. \n",
    "Effective problem solving.\n",
    "\n",
    "Q3) Differentiate between function and method?\n",
    "\n",
    "A function is a piece of code that is called by name. It can be passed data to operate on (i.e. the parameters) and can optionally return data (the return value). All data that is passed to a function is explicitly passed.\n",
    "A method is a piece of code that is called by a name that is associated with an object.\n",
    "\n",
    "Q4) Define the following terms:\n",
    "\n",
    "1. Class\n",
    "\n",
    "A class is a code template for creating objects. Objects have member variables and have behaviour associated with them. In python a class is created by the keyword class . An object is created using the constructor of the class. This object will then be called the instance of the class.\n",
    "\n",
    "2. Object\n",
    "\n",
    "Objects have member variables and have behaviour associated with them. In python a class is created by the keyword class . An object is created using the constructor of the class. This object will then be called the instance of the class. In Python we create instances in the following manner Instance = class(arguments)\n",
    "\n",
    "3. Attribute\n",
    "\n",
    "An instance attribute is a Python variable belonging to one, and only one, object. ... A class attribute is a Python variable that belongs to a class rather than a particular object. It is shared between all the objects of this class and it is defined outside the constructor function, __init__(self,...) , of the class.\n",
    "\n",
    "4. Behavior\n",
    "\n",
    "Objects in Python are generally classified according to their behaviors and the features that they implement. For example, all of the sequence types such as strings, lists, and tuples are grouped together merely because they all happen to support a common set of sequence operations such as s[n], len(s), etc.\n",
    "\n",
    "\n",
    "\n"
   ]
  },
  {
   "cell_type": "code",
   "execution_count": null,
   "metadata": {},
   "outputs": [],
   "source": []
  }
 ],
 "metadata": {
  "kernelspec": {
   "display_name": "Python 3",
   "language": "python",
   "name": "python3"
  },
  "language_info": {
   "codemirror_mode": {
    "name": "ipython",
    "version": 3
   },
   "file_extension": ".py",
   "mimetype": "text/x-python",
   "name": "python",
   "nbconvert_exporter": "python",
   "pygments_lexer": "ipython3",
   "version": "3.7.1"
  }
 },
 "nbformat": 4,
 "nbformat_minor": 2
}
