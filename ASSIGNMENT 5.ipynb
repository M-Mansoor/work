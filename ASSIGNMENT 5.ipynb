{
 "cells": [
  {
   "cell_type": "code",
   "execution_count": 1,
   "metadata": {},
   "outputs": [
    {
     "name": "stdout",
     "output_type": "stream",
     "text": [
      "Enter Number to find factorial: 4\n",
      "24\n"
     ]
    }
   ],
   "source": [
    "#Q1\n",
    "def PositiveInteger(number):\n",
    "    if int(number) > 0 :\n",
    "        return True\n",
    "    else:\n",
    "        return False\n",
    "def calcFactorial(number):\n",
    "    factorial = 1\n",
    "    if PositiveInteger(number) == True:\n",
    "        number = int(number)\n",
    "        for i in range(1, number + 1):\n",
    "            factorial = factorial * i\n",
    "        print(factorial)\n",
    "    else:\n",
    "        print(\"Invalid\")\n",
    "\n",
    "factCalc = input(\"Enter Number to find factorial: \")\n",
    "calcFactorial(factCalc)\n"
   ]
  },
  {
   "cell_type": "code",
   "execution_count": 2,
   "metadata": {},
   "outputs": [
    {
     "name": "stdout",
     "output_type": "stream",
     "text": [
      "Enter Any String: Ali\n",
      "Invalid input\n",
      "Invalid input\n",
      "Invalid input\n",
      "Invalid input\n",
      "Invalid input\n",
      "Invalid input\n",
      "Invalid input\n",
      "Invalid input\n",
      "Invalid input\n",
      "Invalid input\n",
      "Invalid input\n",
      "Invalid input\n",
      "Invalid input\n",
      "Invalid input\n",
      "Invalid input\n",
      "Invalid input\n",
      "Invalid input\n",
      "Invalid input\n",
      "Invalid input\n",
      "Invalid input\n",
      "Invalid input\n",
      "Invalid input\n",
      "Invalid input\n",
      "Invalid input\n",
      "Invalid input\n",
      "Invalid input\n",
      "Invalid input\n",
      "Invalid input\n",
      "Invalid input\n",
      "Invalid input\n",
      "Invalid input\n",
      "Invalid input\n",
      "Invalid input\n",
      "Invalid input\n",
      "Invalid input\n",
      "Invalid input\n",
      "Invalid input\n",
      "Invalid input\n",
      "Invalid input\n",
      "Invalid input\n",
      "Invalid input\n",
      "Invalid input\n",
      "Invalid input\n",
      "Invalid input\n",
      "Invalid input\n",
      "Invalid input\n",
      "Invalid input\n",
      "Invalid input\n",
      "Invalid input\n",
      "Invalid input\n",
      "Invalid input\n",
      "Invalid input\n",
      "Invalid input\n",
      "Invalid input\n",
      "Invalid input\n",
      "Invalid input\n",
      "Invalid input\n",
      "Invalid input\n",
      "Invalid input\n",
      "Invalid input\n",
      "Invalid input\n",
      "Invalid input\n",
      "Invalid input\n",
      "Invalid input\n",
      "Invalid input\n",
      "Invalid input\n",
      "Invalid input\n",
      "Invalid input\n",
      "Invalid input\n",
      "Invalid input\n",
      "Invalid input\n",
      "Invalid input\n",
      "Invalid input\n",
      "Invalid input\n",
      "Invalid input\n",
      "Upper Case Letter in the String are: 1,\n",
      "Lower Case letters in the String are: 2\n"
     ]
    }
   ],
   "source": [
    "#Q2\n",
    "def caseCounter(string):\n",
    "    upper = 0\n",
    "    lower = 0\n",
    "    standardString = 'abcdefghijklmnopqrstuvwxyz'\n",
    "    for letter in string:\n",
    "        for sampleLetter in standardString:\n",
    "            if letter == sampleLetter:\n",
    "                lower += 1\n",
    "            elif letter == sampleLetter.upper():\n",
    "                upper += 1\n",
    "            else:\n",
    "                print(\"Invalid input\")\n",
    "                \n",
    "    print(\"Upper Case Letter in the String are: {},\\nLower Case letters in the String are: {}\".format(upper, lower))\n",
    "string = input(\"Enter Any String: \")\n",
    "caseCounter(string)"
   ]
  },
  {
   "cell_type": "code",
   "execution_count": 3,
   "metadata": {},
   "outputs": [
    {
     "name": "stdout",
     "output_type": "stream",
     "text": [
      "2\n",
      "8\n",
      "22\n",
      "36\n",
      "78\n"
     ]
    }
   ],
   "source": [
    "#Q3\n",
    "even = [2, 3, 7, 8, 33, 22, 36, 99, 78]\n",
    "for element in even:\n",
    "    if element % 2 == 0:\n",
    "        print(element)\n",
    "        "
   ]
  },
  {
   "cell_type": "code",
   "execution_count": 5,
   "metadata": {},
   "outputs": [
    {
     "name": "stdout",
     "output_type": "stream",
     "text": [
      "Enter any word: Madam\n",
      "Madam is a Palindrom\n"
     ]
    }
   ],
   "source": [
    "#Q4\n",
    "def Palindrom(Word):\n",
    "    firstHalf = []\n",
    "    secondHalf = []\n",
    "    if len(Word) % 2 == 1:\n",
    "        oddList = (len(Word) // 2)\n",
    "        for element in range(oddList):\n",
    "            firstHalf.append(Word[element])\n",
    "        for element in range(-1, -(len(Word)-oddList), -1):\n",
    "            secondHalf.append(Word[element])\n",
    "    else:\n",
    "        print(\"Not palindrom Word\")\n",
    "    palindrom = False\n",
    "    for element in range(len(firstHalf)):\n",
    "        if firstHalf[element] == secondHalf[element]:\n",
    "            palindrom = True\n",
    "    if palindrom == True:\n",
    "        print(\"{} is a Palindrom\".format(Word))\n",
    "    else:\n",
    "        print(\"Not a palindrom\")\n",
    "palWord = input('Enter any word: ')\n",
    "Palindrom(palWord)\n"
   ]
  },
  {
   "cell_type": "code",
   "execution_count": 6,
   "metadata": {},
   "outputs": [
    {
     "name": "stdout",
     "output_type": "stream",
     "text": [
      "Enter any number: 11\n",
      "11 is a prime number.\n"
     ]
    }
   ],
   "source": [
    "#Q5\n",
    "def PositiveInteger(number):\n",
    "    try:\n",
    "        number = int(number)\n",
    "        return True\n",
    "    except:\n",
    "        return False\n",
    "\n",
    "def checkPrime(number):\n",
    "    Prime = PositiveInteger(number)\n",
    "    if Prime:\n",
    "        number = int(number)\n",
    "        for i in range(2, number):\n",
    "            if (number % i == 0):\n",
    "                print(\"Not a prime Number\")\n",
    "                print(\"{} times {} is a {}.\".format(i, number // i, number))\n",
    "                break\n",
    "        else:\n",
    "            print(\"{} is a prime number.\".format(number))\n",
    "    else:\n",
    "        print(\"Enter positive integers only\")\n",
    "number = input(\"Enter any number: \")\n",
    "checkPrime(number)\n"
   ]
  },
  {
   "cell_type": "code",
   "execution_count": 9,
   "metadata": {},
   "outputs": [
    {
     "name": "stdout",
     "output_type": "stream",
     "text": [
      "Enter Shopping item [press 0 to close]: Egg\n",
      "Enter Shopping item [press 0 to close]: Bread\n",
      "Enter Shopping item [press 0 to close]: Butter\n",
      "Enter Shopping item [press 0 to close]: Banana\n",
      "Enter Shopping item [press 0 to close]: 0\n",
      "You buy: Egg\n",
      "You buy: Bread\n",
      "You buy: Butter\n",
      "You buy: Banana\n"
     ]
    }
   ],
   "source": [
    "#Q6\n",
    "def shoppingList(*items):\n",
    "    shoppingItems = []\n",
    "    while True:\n",
    "        item = input(\"Enter Shopping item [press 0 to close]: \")\n",
    "        if item != '0':\n",
    "            shoppingItems.append(item)\n",
    "        else:\n",
    "            break\n",
    "    for item in range(len(shoppingItems)):\n",
    "        print(\"You buy: {}\".format(shoppingItems[item]))\n",
    "shoppingList()"
   ]
  },
  {
   "cell_type": "code",
   "execution_count": null,
   "metadata": {},
   "outputs": [],
   "source": []
  }
 ],
 "metadata": {
  "kernelspec": {
   "display_name": "Python 3",
   "language": "python",
   "name": "python3"
  },
  "language_info": {
   "codemirror_mode": {
    "name": "ipython",
    "version": 3
   },
   "file_extension": ".py",
   "mimetype": "text/x-python",
   "name": "python",
   "nbconvert_exporter": "python",
   "pygments_lexer": "ipython3",
   "version": "3.7.1"
  }
 },
 "nbformat": 4,
 "nbformat_minor": 2
}
